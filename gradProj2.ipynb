{
  "cells": [
    {
      "cell_type": "code",
      "execution_count": null,
      "metadata": {
        "id": "Z2nlILBTsdg5"
      },
      "outputs": [],
      "source": [
        "import torch\n",
        "import torchvision.transforms as transforms\n",
        "from torchvision.datasets import ImageFolder\n",
        "from torch.utils.data import DataLoader\n",
        "from torchvision.models import resnet50\n",
        "from torch import nn\n",
        "import os\n",
        "import zipfile"
      ]
    },
    {
      "cell_type": "code",
      "execution_count": null,
      "metadata": {
        "id": "ZvllmhmOtH3x"
      },
      "outputs": [],
      "source": [
        "device = torch.device(\"cuda\" if torch.cuda.is_available() else \"cpu\")\n"
      ]
    },
    {
      "cell_type": "code",
      "execution_count": null,
      "metadata": {
        "id": "FKLdnBuTvfcD"
      },
      "outputs": [],
      "source": [
        "# Define zip filenames and their target folders\n",
        "zip_mappings = {\n",
        "    \"zipped-train-healthy.zip\": \"train/healthy\",\n",
        "    \"zipped-train-sick.zip\": \"train/sick\",\n",
        "    \"test-healthy.zip\": \"test/healthy\",\n",
        "    \"test-sick.zip\": \"test/sick\"\n",
        "}"
      ]
    },
    {
      "cell_type": "code",
      "execution_count": null,
      "metadata": {
        "colab": {
          "base_uri": "https://localhost:8080/"
        },
        "id": "k_N11lIPvhrD",
        "outputId": "5617e0e6-969f-4383-e57c-603ba7c006e7"
      },
      "outputs": [
        {
          "output_type": "stream",
          "name": "stdout",
          "text": [
            "✅ All datasets unzipped and organized.\n"
          ]
        }
      ],
      "source": [
        "# Make sure each folder exists and unzip into it\n",
        "for zip_name, target_dir in zip_mappings.items():\n",
        "    os.makedirs(target_dir, exist_ok=True)\n",
        "    with zipfile.ZipFile(zip_name, 'r') as zip_ref:\n",
        "        zip_ref.extractall(target_dir)\n",
        "\n",
        "print(\"✅ All datasets unzipped and organized.\")"
      ]
    },
    {
      "cell_type": "code",
      "execution_count": null,
      "metadata": {
        "id": "D5JCa85MwFbG"
      },
      "outputs": [],
      "source": [
        "!pip install -q albumentations"
      ]
    },
    {
      "cell_type": "code",
      "execution_count": null,
      "metadata": {
        "id": "aBdic3JVwOGx",
        "colab": {
          "base_uri": "https://localhost:8080/"
        },
        "outputId": "2be905f4-ec98-4361-8b41-2fa05ab97a06"
      },
      "outputs": [
        {
          "output_type": "stream",
          "name": "stderr",
          "text": [
            "Augmenting healthy: 100%|██████████| 700/700 [00:03<00:00, 226.00it/s]\n",
            "Augmenting sick: 100%|██████████| 700/700 [00:03<00:00, 206.17it/s]"
          ]
        },
        {
          "output_type": "stream",
          "name": "stdout",
          "text": [
            "✅ Data augmentation completed. Images saved in /train_augmented/\n"
          ]
        },
        {
          "output_type": "stream",
          "name": "stderr",
          "text": [
            "\n"
          ]
        }
      ],
      "source": [
        "import albumentations as A\n",
        "import cv2\n",
        "from glob import glob\n",
        "import os\n",
        "from tqdm import tqdm\n",
        "\n",
        "# Define original and augmented folder paths\n",
        "original_train = \"train\"\n",
        "augmented_train = \"train_augmented\"\n",
        "\n",
        "os.makedirs(f\"{augmented_train}/healthy\", exist_ok=True)\n",
        "os.makedirs(f\"{augmented_train}/sick\", exist_ok=True)\n",
        "\n",
        "# Define augmentation pipeline\n",
        "augment = A.Compose([\n",
        "    A.HorizontalFlip(p=0.5),\n",
        "    A.RandomBrightnessContrast(p=0.5),\n",
        "    A.Rotate(limit=20, p=0.5),\n",
        "    A.GaussianBlur(blur_limit=(3, 7), p=0.3),\n",
        "    A.Resize(224, 224, p=1.0)\n",
        "])\n",
        "\n",
        "# Augment images\n",
        "def augment_class_images(class_name):\n",
        "    input_paths = glob(f\"{original_train}/{class_name}/*.jpg\")\n",
        "    for img_path in tqdm(input_paths, desc=f\"Augmenting {class_name}\"):\n",
        "        img = cv2.imread(img_path)\n",
        "        img = cv2.cvtColor(img, cv2.COLOR_BGR2RGB)\n",
        "        base_name = os.path.basename(img_path).split('.')[0]\n",
        "        for i in range(3):  # generate 3 versions\n",
        "            aug_img = augment(image=img)['image']\n",
        "            aug_img = cv2.cvtColor(aug_img, cv2.COLOR_RGB2BGR)\n",
        "            cv2.imwrite(f\"{augmented_train}/{class_name}/{base_name}_aug{i}.jpg\", aug_img)\n",
        "\n",
        "# Run for both healthy and sick\n",
        "augment_class_images(\"healthy\")\n",
        "augment_class_images(\"sick\")\n",
        "\n",
        "print(\"✅ Data augmentation completed. Images saved in /train_augmented/\")\n"
      ]
    },
    {
      "cell_type": "code",
      "execution_count": null,
      "metadata": {
        "id": "WiOtxKB0xRl9",
        "colab": {
          "base_uri": "https://localhost:8080/"
        },
        "outputId": "77f3bb67-1722-4fd3-fe46-ae402fb2645e"
      },
      "outputs": [
        {
          "output_type": "stream",
          "name": "stderr",
          "text": [
            "Merging healthy: 100%|██████████| 700/700 [00:00<00:00, 5750.36it/s]\n",
            "Merging sick: 100%|██████████| 700/700 [00:00<00:00, 5814.11it/s]"
          ]
        },
        {
          "output_type": "stream",
          "name": "stdout",
          "text": [
            "✅ Merged original + augmented training images into /train_augmented/\n"
          ]
        },
        {
          "output_type": "stream",
          "name": "stderr",
          "text": [
            "\n"
          ]
        }
      ],
      "source": [
        "import shutil\n",
        "from glob import glob\n",
        "import os\n",
        "\n",
        "# Define original and augmented folders\n",
        "original_train = \"train\"\n",
        "augmented_train = \"train_augmented\"\n",
        "\n",
        "# Ensure augmented folders exist\n",
        "os.makedirs(f\"{augmented_train}/healthy\", exist_ok=True)\n",
        "os.makedirs(f\"{augmented_train}/sick\", exist_ok=True)\n",
        "\n",
        "# Function to copy original images to the augmented folder\n",
        "def merge_original_with_augmented(class_name):\n",
        "    src_paths = glob(f\"{original_train}/{class_name}/*.jpg\")\n",
        "    for path in tqdm(src_paths, desc=f\"Merging {class_name}\"):\n",
        "        filename = os.path.basename(path)\n",
        "        dest_path = f\"{augmented_train}/{class_name}/{filename}\"\n",
        "        shutil.copy(path, dest_path)\n",
        "\n",
        "# Merge both classes\n",
        "merge_original_with_augmented(\"healthy\")\n",
        "merge_original_with_augmented(\"sick\")\n",
        "\n",
        "print(\"✅ Merged original + augmented training images into /train_augmented/\")\n"
      ]
    },
    {
      "cell_type": "code",
      "execution_count": null,
      "metadata": {
        "id": "2AoUTkuqxpN7",
        "colab": {
          "base_uri": "https://localhost:8080/"
        },
        "outputId": "422ab4ff-77ad-47eb-e017-c66830cf54f9"
      },
      "outputs": [
        {
          "output_type": "stream",
          "name": "stdout",
          "text": [
            "🟢 Total healthy images: 2800\n",
            "🔴 Total sick images: 2800\n",
            "📊 Total training images: 5600\n"
          ]
        }
      ],
      "source": [
        "import os\n",
        "\n",
        "# Paths to each class\n",
        "healthy_dir = \"/content/train_augmented/healthy\"\n",
        "sick_dir = \"/content/train_augmented/sick\"\n",
        "\n",
        "# Count files\n",
        "num_healthy = len(os.listdir(healthy_dir))\n",
        "num_sick = len(os.listdir(sick_dir))\n",
        "\n",
        "print(f\"🟢 Total healthy images: {num_healthy}\")\n",
        "print(f\"🔴 Total sick images: {num_sick}\")\n",
        "print(f\"📊 Total training images: {num_healthy + num_sick}\")\n"
      ]
    },
    {
      "cell_type": "code",
      "source": [
        "from torchvision.datasets import ImageFolder\n",
        "from torch.utils.data import DataLoader\n",
        "from PIL import Image\n",
        "from tqdm import tqdm\n",
        "import torch\n",
        "import numpy as np\n",
        "from sklearn.decomposition import PCA\n",
        "from sklearn.model_selection import train_test_split\n",
        "from torch.utils.data import TensorDataset, DataLoader\n",
        "import matplotlib.pyplot as plt\n",
        "import seaborn as sns\n",
        "\n",
        "# ⚠️ Do NOT use any transforms here\n",
        "dataset = ImageFolder('/content/train_augmented')  # or your folder with healthy/sick\n",
        "loader = DataLoader(dataset, batch_size=1, shuffle=False)\n",
        "\n",
        "# Load ViT\n",
        "from transformers import ViTFeatureExtractor, ViTModel\n",
        "feature_extractor = ViTFeatureExtractor.from_pretrained('google/vit-base-patch16-224')\n",
        "vit_model = ViTModel.from_pretrained('google/vit-base-patch16-224')\n",
        "vit_model.eval().to(device)\n",
        "\n",
        "# ViT Feature Extraction using raw image paths\n",
        "all_features = []\n",
        "all_labels = []\n",
        "\n",
        "with torch.no_grad():\n",
        "    for img_path, label in tqdm(dataset.imgs, desc=\"Extracting features\"):\n",
        "        img = Image.open(img_path).convert(\"RGB\")  # Load as PIL\n",
        "\n",
        "        inputs = feature_extractor(images=img, return_tensors=\"pt\")\n",
        "        inputs = {k: v.to(device) for k, v in inputs.items()}\n",
        "\n",
        "        outputs = vit_model(**inputs)\n",
        "        cls_token = outputs.last_hidden_state[:, 0, :].cpu().numpy()  # [CLS] token\n",
        "\n",
        "        all_features.append(cls_token)\n",
        "        all_labels.append(label)\n",
        "\n",
        "# Combine all features\n",
        "X = np.concatenate(all_features)\n",
        "\n",
        "# Plot histogram of a few random feature dimensions\n",
        "plt.figure(figsize=(12, 6))\n",
        "for i in [0, 10, 100, 200, 500]:  # sample dimensions\n",
        "    sns.kdeplot(X[:, i], label=f\"Feature {i}\")\n",
        "plt.title(\"Distribution of Sample ViT Embedding Dimensions\")\n",
        "plt.xlabel(\"Feature value\")\n",
        "plt.ylabel(\"Density\")\n",
        "plt.legend()\n",
        "plt.grid(True)\n",
        "plt.show()\n",
        "\n",
        "# ✅ Reduce embedding dimensions using PCA\n",
        "pca = PCA(n_components=128)  # Try 64 or 256 depending on speed vs accuracy\n",
        "X = pca.fit_transform(X)     # Now shape is [5600, 128]\n",
        "\n",
        "\n",
        "# Convert to NumPy if not already\n",
        "y = np.array(all_labels)\n",
        "\n",
        "# Train/Val split\n",
        "X_train, X_val, y_train, y_val = train_test_split(X, y, test_size=0.2, stratify=y, random_state=42)\n",
        "\n",
        "# Convert to PyTorch tensors\n",
        "X_train_tensor = torch.tensor(X_train, dtype=torch.float32)\n",
        "y_train_tensor = torch.tensor(y_train, dtype=torch.long)\n",
        "X_val_tensor = torch.tensor(X_val, dtype=torch.float32)\n",
        "y_val_tensor = torch.tensor(y_val, dtype=torch.long)\n",
        "\n",
        "# Dataloaders\n",
        "train_loader = DataLoader(TensorDataset(X_train_tensor, y_train_tensor), batch_size=32, shuffle=True)\n",
        "val_loader = DataLoader(TensorDataset(X_val_tensor, y_val_tensor), batch_size=32)"
      ],
      "metadata": {
        "id": "sPBoanqZ7Tgu",
        "colab": {
          "base_uri": "https://localhost:8080/",
          "height": 871,
          "referenced_widgets": [
            "041f144363594b3980ff6bf584584514",
            "6ff2b25670c04f5f92d73d5fd9bf5e05",
            "190e268540f04e918e68d12ee13e1b94",
            "c078627492c6454ab1245f03a2d257ef",
            "6525a6027ed54c51a6cfd08cba461d6f",
            "09bcad7a89e04ad9bc985dd6b252fafd",
            "2f1a60625def43c79bd24a088359950d",
            "43311b679c734c73ad6a28e3aa2f4109",
            "b9efd79d4d1a40d5aec37122b8f3ffe0",
            "2ec03bd822fe4d8e806b2ac2f2f44543",
            "218bcb394c3944a4bd26d294ee402d52",
            "288398bfff5e4d498e32ce450ca5155d",
            "a9d56bb196f54dafbc5938c1b0696c50",
            "4cde8577b62f4602ae29601466a60280",
            "ab6489cd4aeb4797a552f20b419aea30",
            "c16e0cc4ff5b4332a87f390454119c76",
            "afb7322c8b35448481988396deac6a59",
            "343e802ea84442f8949849b6e7e0528a",
            "b6204821b6974b1db501cadec7cf7d0f",
            "6d98fe1dfd1d4b178eac038a1abd5298",
            "c6b43fc6b6dd49f89d3a4b7416084cb6",
            "808f8be4202e4cd9be48eec34dd1121b",
            "b41c29a4b91f448f86be204cdd3d6cb7",
            "ed61c9612cba4a04acd1eb631781b6cd",
            "1002897a5b444da1a47088dc91cde77e",
            "7022e66817324284b7b5b1667c325bbf",
            "0fe027618fce4e648ed20ce8ec6cd467",
            "bed3f5348f904656a9353313719f6736",
            "c9f3e637a51344a6bd55764511ec512b",
            "9f03aa42f281480eafa1044f47d7800d",
            "6cedf5d230a5483ca8da58d7b5f4f2df",
            "fc99451014af4d77be4f1c68fc6e2f83",
            "ec685ecee76443d889c706a760b0231c"
          ]
        },
        "outputId": "471a18be-4fb8-4dbc-c9e1-7f7c7be26cce"
      },
      "execution_count": null,
      "outputs": [
        {
          "output_type": "stream",
          "name": "stderr",
          "text": [
            "/usr/local/lib/python3.11/dist-packages/huggingface_hub/utils/_auth.py:94: UserWarning: \n",
            "The secret `HF_TOKEN` does not exist in your Colab secrets.\n",
            "To authenticate with the Hugging Face Hub, create a token in your settings tab (https://huggingface.co/settings/tokens), set it as secret in your Google Colab and restart your session.\n",
            "You will be able to reuse this secret in all of your notebooks.\n",
            "Please note that authentication is recommended but still optional to access public models or datasets.\n",
            "  warnings.warn(\n"
          ]
        },
        {
          "output_type": "display_data",
          "data": {
            "text/plain": [
              "preprocessor_config.json:   0%|          | 0.00/160 [00:00<?, ?B/s]"
            ],
            "application/vnd.jupyter.widget-view+json": {
              "version_major": 2,
              "version_minor": 0,
              "model_id": "041f144363594b3980ff6bf584584514"
            }
          },
          "metadata": {}
        },
        {
          "output_type": "stream",
          "name": "stderr",
          "text": [
            "/usr/local/lib/python3.11/dist-packages/transformers/models/vit/feature_extraction_vit.py:30: FutureWarning: The class ViTFeatureExtractor is deprecated and will be removed in version 5 of Transformers. Please use ViTImageProcessor instead.\n",
            "  warnings.warn(\n"
          ]
        },
        {
          "output_type": "display_data",
          "data": {
            "text/plain": [
              "config.json: 0.00B [00:00, ?B/s]"
            ],
            "application/vnd.jupyter.widget-view+json": {
              "version_major": 2,
              "version_minor": 0,
              "model_id": "288398bfff5e4d498e32ce450ca5155d"
            }
          },
          "metadata": {}
        },
        {
          "output_type": "display_data",
          "data": {
            "text/plain": [
              "model.safetensors:   0%|          | 0.00/346M [00:00<?, ?B/s]"
            ],
            "application/vnd.jupyter.widget-view+json": {
              "version_major": 2,
              "version_minor": 0,
              "model_id": "b41c29a4b91f448f86be204cdd3d6cb7"
            }
          },
          "metadata": {}
        },
        {
          "output_type": "stream",
          "name": "stderr",
          "text": [
            "Some weights of ViTModel were not initialized from the model checkpoint at google/vit-base-patch16-224 and are newly initialized: ['pooler.dense.bias', 'pooler.dense.weight']\n",
            "You should probably TRAIN this model on a down-stream task to be able to use it for predictions and inference.\n",
            "Extracting features: 100%|██████████| 5600/5600 [01:01<00:00, 90.49it/s]\n"
          ]
        },
        {
          "output_type": "display_data",
          "data": {
            "text/plain": [
              "<Figure size 1200x600 with 1 Axes>"
            ],
            "image/png": "[encoded data removed]"
          },
          "metadata": {}
        }
      ]
    },
    {
      "cell_type": "markdown",
      "source": [
        "ViT\n"
      ],
      "metadata": {
        "id": "Fw3kgdl94ozN"
      }
    },
    {
      "cell_type": "code",
      "source": [
        "for img_path, label in tqdm(dataset.imgs):\n",
        "    img = Image.open(img_path).convert(\"RGB\")\n",
        "    inputs = feature_extractor(images=img, return_tensors=\"pt\")\n"
      ],
      "metadata": {
        "id": "VRAs-n1QkvwZ",
        "colab": {
          "base_uri": "https://localhost:8080/"
        },
        "outputId": "f2bac13b-9bc0-492b-de23-f4ee26acb384"
      },
      "execution_count": null,
      "outputs": [
        {
          "output_type": "stream",
          "name": "stderr",
          "text": [
            "100%|██████████| 5600/5600 [00:12<00:00, 433.41it/s]\n"
          ]
        }
      ]
    },
    {
      "cell_type": "markdown",
      "source": [
        " KDE plot, normalization needed??\n"
      ],
      "metadata": {
        "id": "M1KH5NJARNcu"
      }
    },
    {
      "cell_type": "code",
      "source": [
        "import matplotlib.pyplot as plt\n",
        "import seaborn as sns\n",
        "\n",
        "# Choose a few dimensions from the embedding vector to visualize\n",
        "feature_indices = [0, 10, 100, 127]\n",
        "\n",
        "plt.figure(figsize=(10, 6))\n",
        "for i in feature_indices:\n",
        "    sns.kdeplot(X[:, i], label=f\"Feature {i}\")  # X is your ViT embeddings\n",
        "\n",
        "plt.title(\"Distribution of Sample ViT Embedding Dimensions\")\n",
        "plt.xlabel(\"Feature value\")\n",
        "plt.ylabel(\"Density\")\n",
        "plt.legend()\n",
        "plt.grid(True)\n",
        "plt.show()\n"
      ],
      "metadata": {
        "id": "ov85_oKtnu2e",
        "colab": {
          "base_uri": "https://localhost:8080/",
          "height": 564
        },
        "outputId": "02c0210a-7e70-450e-8339-b3ce442381d1"
      },
      "execution_count": null,
      "outputs": [
        {
          "output_type": "display_data",
          "data": {
            "text/plain": [
              "<Figure size 1000x600 with 1 Axes>"
            ],
            "image/png": "[encoded data removed]"
          },
          "metadata": {}
        }
      ]
    },
    {
      "cell_type": "code",
      "source": [
        "!pip install -q pykan"
      ],
      "metadata": {
        "id": "OrKQHzNDU9xe",
        "colab": {
          "base_uri": "https://localhost:8080/"
        },
        "outputId": "31d37c31-db1f-4c6d-9e95-f6e0fec9e4e8"
      },
      "execution_count": null,
      "outputs": [
        {
          "output_type": "stream",
          "name": "stdout",
          "text": [
            "\u001b[?25l   \u001b[90m━━━━━━━━━━━━━━━━━━━━━━━━━━━━━━━━━━━━━━━━\u001b[0m \u001b[32m0.0/78.1 kB\u001b[0m \u001b[31m?\u001b[0m eta \u001b[36m-:--:--\u001b[0m\r\u001b[2K   \u001b[90m━━━━━━━━━━━━━━━━━━━━━━━━━━━━━━━━━━━━━━━━\u001b[0m \u001b[32m78.1/78.1 kB\u001b[0m \u001b[31m3.4 MB/s\u001b[0m eta \u001b[36m0:00:00\u001b[0m\n",
            "\u001b[?25h"
          ]
        }
      ]
    },
    {
      "cell_type": "code",
      "source": [
        "from kan import KAN\n",
        "import torch.nn as nn\n",
        "import torch.optim as optim\n",
        "\n",
        "# Define KAN architecture: 768-dim input → 64 hidden → 2 output\n",
        "kan_model = KAN(width=[128, 32, 2])\n",
        "kan_model.to(device)\n",
        "\n",
        "criterion = nn.CrossEntropyLoss()\n",
        "optimizer = optim.Adam(kan_model.parameters(), lr=1e-3)\n",
        "\n",
        "# Training loop\n",
        "for epoch in range(5):\n",
        "    kan_model.train()\n",
        "    total_loss = 0\n",
        "    for xb, yb in train_loader:\n",
        "        xb, yb = xb.to(device), yb.to(device)\n",
        "        optimizer.zero_grad()\n",
        "        outputs = kan_model(xb)\n",
        "        loss = criterion(outputs, yb)\n",
        "        loss.backward()\n",
        "        optimizer.step()\n",
        "        total_loss += loss.item()\n",
        "    print(f\"📘 Epoch {epoch+1}, Loss: {total_loss / len(train_loader):.4f}\")\n"
      ],
      "metadata": {
        "id": "xVHw67s9U5C7"
      },
      "execution_count": null,
      "outputs": []
    },
    {
      "cell_type": "markdown",
      "source": [
        "**Evaluate KAN on the validation set**"
      ],
      "metadata": {
        "id": "XbcJjcRzl8Lr"
      }
    },
    {
      "cell_type": "code",
      "source": [
        "from sklearn.metrics import classification_report, confusion_matrix, ConfusionMatrixDisplay\n",
        "import matplotlib.pyplot as plt\n",
        "\n",
        "kan_model.eval()\n",
        "correct = 0\n",
        "total = 0\n",
        "all_preds = []\n",
        "all_targets = []\n",
        "\n",
        "with torch.no_grad():\n",
        "    for xb, yb in val_loader:\n",
        "        xb, yb = xb.to(device), yb.to(device)\n",
        "        outputs = kan_model(xb)\n",
        "        preds = torch.argmax(outputs, dim=1)\n",
        "        correct += (preds == yb).sum().item()\n",
        "        total += yb.size(0)\n",
        "        all_preds.extend(preds.cpu().numpy())\n",
        "        all_targets.extend(yb.cpu().numpy())\n",
        "\n",
        "accuracy = 100 * correct / total\n",
        "print(f\"✅ Validation Accuracy: {accuracy:.2f}%\")"
      ],
      "metadata": {
        "id": "SldWOuCjl7Kq"
      },
      "execution_count": null,
      "outputs": []
    },
    {
      "cell_type": "code",
      "source": [
        "# Classification report\n",
        "print(classification_report(all_targets, all_preds, target_names=['healthy', 'sick']))\n",
        "\n",
        "# Confusion matrix\n",
        "cm = confusion_matrix(all_targets, all_preds)\n",
        "disp = ConfusionMatrixDisplay(confusion_matrix=cm, display_labels=['healthy', 'sick'])\n",
        "disp.plot(cmap=\"Blues\")\n",
        "plt.title(\"KAN Validation Confusion Matrix\")\n",
        "plt.grid(False)\n",
        "plt.show()"
      ],
      "metadata": {
        "id": "aKgOUaSYVP2_"
      },
      "execution_count": null,
      "outputs": []
    },
    {
      "cell_type": "markdown",
      "metadata": {
        "id": "8UWGcyaFy2ol"
      },
      "source": [
        "Load Pretrained ResNet-50 and Remove Final Layer"
      ]
    },
    {
      "cell_type": "code",
      "source": [
        "from torchvision.datasets import ImageFolder\n",
        "from torch.utils.data import DataLoader\n",
        "from PIL import Image\n",
        "from tqdm import tqdm\n",
        "\n",
        "# Load /test set (no transforms)\n",
        "test_dataset = ImageFolder('/content/test')\n",
        "test_loader = DataLoader(test_dataset, batch_size=1, shuffle=False)\n",
        "\n",
        "# Extract CLS tokens using ViT\n",
        "test_features = []\n",
        "test_labels = []\n",
        "\n",
        "with torch.no_grad():\n",
        "    for path, label in tqdm(test_dataset.imgs, desc=\"Extracting test features\"):\n",
        "        img = Image.open(path).convert(\"RGB\")\n",
        "        inputs = feature_extractor(images=img, return_tensors=\"pt\")\n",
        "        inputs = {k: v.to(device) for k, v in inputs.items()}\n",
        "        outputs = vit_model(**inputs)\n",
        "        cls_token = outputs.last_hidden_state[:, 0, :].cpu().numpy()\n",
        "        test_features.append(cls_token)\n",
        "        test_labels.append(label)\n",
        "\n",
        "X_test = np.concatenate(test_features)\n",
        "y_test = np.array(test_labels)\n"
      ],
      "metadata": {
        "id": "tK-SmfT0U4eH"
      },
      "execution_count": null,
      "outputs": []
    },
    {
      "cell_type": "markdown",
      "metadata": {
        "id": "ijQWdeHOzAun"
      },
      "source": [
        "Function to Extract Embeddings from a DataLoader"
      ]
    },
    {
      "cell_type": "code",
      "source": [
        "print(test_dataset.classes)  # ['healthy', 'sick']\n"
      ],
      "metadata": {
        "id": "K9v3eXR9IZSy"
      },
      "execution_count": null,
      "outputs": []
    },
    {
      "cell_type": "code",
      "source": [
        "print(test_dataset.class_to_idx)  # {'healthy': 0, 'sick': 1}\n"
      ],
      "metadata": {
        "id": "ApVMBzRQIctS"
      },
      "execution_count": null,
      "outputs": []
    },
    {
      "cell_type": "code",
      "source": [
        "# Use the same PCA model fitted earlier\n",
        "X_test_reduced = pca.transform(X_test)  # shape: [N_test, 128]\n",
        "\n",
        "# Convert to tensor\n",
        "X_test_tensor = torch.tensor(X_test_reduced, dtype=torch.float32)\n",
        "y_test_tensor = torch.tensor(y_test, dtype=torch.long)\n",
        "\n",
        "test_loader = DataLoader(TensorDataset(X_test_tensor, y_test_tensor), batch_size=32)\n"
      ],
      "metadata": {
        "id": "L0j6yxCv8nNW"
      },
      "execution_count": null,
      "outputs": []
    },
    {
      "cell_type": "code",
      "source": [
        "from sklearn.metrics import classification_report, confusion_matrix, ConfusionMatrixDisplay\n",
        "import matplotlib.pyplot as plt\n",
        "\n",
        "kan_model.eval()\n",
        "correct = 0\n",
        "total = 0\n",
        "all_preds = []\n",
        "all_targets = []\n",
        "\n",
        "with torch.no_grad():\n",
        "    for xb, yb in test_loader:\n",
        "        xb, yb = xb.to(device), yb.to(device)\n",
        "        outputs = kan_model(xb)\n",
        "        preds = torch.argmax(outputs, dim=1)\n",
        "        correct += (preds == yb).sum().item()\n",
        "        total += yb.size(0)\n",
        "        all_preds.extend(preds.cpu().numpy())\n",
        "        all_targets.extend(yb.cpu().numpy())\n",
        "\n",
        "test_acc = 100 * correct / total\n",
        "print(f\"✅ Final Test Accuracy: {test_acc:.2f}%\")\n",
        "print(classification_report(all_targets, all_preds, target_names=test_dataset.classes))\n",
        "\n",
        "cm = confusion_matrix(all_targets, all_preds)\n",
        "disp = ConfusionMatrixDisplay(confusion_matrix=cm, display_labels=test_dataset.classes)\n",
        "disp.plot(cmap=\"Blues\")\n",
        "plt.title(\"KAN Test Confusion Matrix\")\n",
        "plt.grid(False)\n",
        "plt.show()\n"
      ],
      "metadata": {
        "id": "zVnKo3ma8rpz"
      },
      "execution_count": null,
      "outputs": []
    },
    {
      "cell_type": "markdown",
      "metadata": {
        "id": "2JDjNV40zHFF"
      },
      "source": [
        "Extract Embeddings from Training and Test Sets"
      ]
    },
    {
      "cell_type": "code",
      "source": [
        "torch.save(kan_model.state_dict(), \"kan_final.pth\")\n"
      ],
      "metadata": {
        "id": "UXD_OkjKaSmy"
      },
      "execution_count": null,
      "outputs": []
    },
    {
      "cell_type": "code",
      "source": [
        "import gradio as gr\n",
        "from PIL import Image\n",
        "import torch\n",
        "import numpy as np\n",
        "\n",
        "# Reuse your feature extractor, PCA, and trained KAN\n",
        "# Make sure kan_model.eval(), pca, and feature_extractor are still loaded\n",
        "\n",
        "def predict_mri(image):\n",
        "    # 1. Preprocess image\n",
        "    img = image.convert(\"RGB\")\n",
        "    inputs = feature_extractor(images=img, return_tensors=\"pt\")\n",
        "    inputs = {k: v.to(device) for k, v in inputs.items()}\n",
        "\n",
        "    # 2. ViT embedding\n",
        "    with torch.no_grad():\n",
        "        outputs = vit_model(**inputs)\n",
        "        cls_token = outputs.last_hidden_state[:, 0, :].cpu().numpy()\n",
        "\n",
        "    # 3. PCA reduction\n",
        "    reduced = pca.transform(cls_token)\n",
        "\n",
        "    # 4. KAN prediction\n",
        "    input_tensor = torch.tensor(reduced, dtype=torch.float32).to(device)\n",
        "    with torch.no_grad():\n",
        "        logits = kan_model(input_tensor)\n",
        "        probs = torch.softmax(logits, dim=1).cpu().numpy()[0]\n",
        "\n",
        "    # 5. Map index to label\n",
        "    label_idx = np.argmax(probs)\n",
        "    label_name = ['healthy', 'sick'][label_idx]\n",
        "\n",
        "    return { \"healthy\": float(probs[0]), \"sick\": float(probs[1]) }\n",
        "\n",
        "# Create the Gradio Interface\n",
        "interface = gr.Interface(\n",
        "    fn=predict_mri,\n",
        "    inputs=gr.Image(type=\"pil\"),\n",
        "    outputs=gr.Label(num_top_classes=2),\n",
        "    title=\"Breast MRI Tumor Classifier\",\n",
        "    description=\"Upload a breast MRI image to classify it as healthy or sick using ViT + KAN.\"\n",
        ")\n",
        "\n",
        "interface.launch(share=True)\n"
      ],
      "metadata": {
        "id": "0jSwOsZcagMf"
      },
      "execution_count": null,
      "outputs": []
    },
    {
      "cell_type": "code",
      "source": [],
      "metadata": {
        "id": "8j-WDYgR2bJJ"
      },
      "execution_count": null,
      "outputs": []
    }
  ],
  "metadata": {
    "accelerator": "GPU",
    "colab": {
      "gpuType": "A100",
      "machine_shape": "hm",
      "provenance": []
    },
    "kernelspec": {
      "display_name": "Python 3",
      "name": "python3"
    },
    "language_info": {
      "name": "python"
    },
    "widgets": {
      "application/vnd.jupyter.widget-state+json": {
        "041f144363594b3980ff6bf584584514": {
          "model_module": "@jupyter-widgets/controls",
          "model_name": "HBoxModel",
          "model_module_version": "1.5.0",
          "state": {
            "_dom_classes": [],
            "_model_module": "@jupyter-widgets/controls",
            "_model_module_version": "1.5.0",
            "_model_name": "HBoxModel",
            "_view_count": null,
            "_view_module": "@jupyter-widgets/controls",
            "_view_module_version": "1.5.0",
            "_view_name": "HBoxView",
            "box_style": "",
            "children": [
              "IPY_MODEL_6ff2b25670c04f5f92d73d5fd9bf5e05",
              "IPY_MODEL_190e268540f04e918e68d12ee13e1b94",
              "IPY_MODEL_c078627492c6454ab1245f03a2d257ef"
            ],
            "layout": "IPY_MODEL_6525a6027ed54c51a6cfd08cba461d6f"
          }
        },
        "6ff2b25670c04f5f92d73d5fd9bf5e05": {
          "model_module": "@jupyter-widgets/controls",
          "model_name": "HTMLModel",
          "model_module_version": "1.5.0",
          "state": {
            "_dom_classes": [],
            "_model_module": "@jupyter-widgets/controls",
            "_model_module_version": "1.5.0",
            "_model_name": "HTMLModel",
            "_view_count": null,
            "_view_module": "@jupyter-widgets/controls",
            "_view_module_version": "1.5.0",
            "_view_name": "HTMLView",
            "description": "",
            "description_tooltip": null,
            "layout": "IPY_MODEL_09bcad7a89e04ad9bc985dd6b252fafd",
            "placeholder": "​",
            "style": "IPY_MODEL_2f1a60625def43c79bd24a088359950d",
            "value": "preprocessor_config.json: 100%"
          }
        },
        "190e268540f04e918e68d12ee13e1b94": {
          "model_module": "@jupyter-widgets/controls",
          "model_name": "FloatProgressModel",
          "model_module_version": "1.5.0",
          "state": {
            "_dom_classes": [],
            "_model_module": "@jupyter-widgets/controls",
            "_model_module_version": "1.5.0",
            "_model_name": "FloatProgressModel",
            "_view_count": null,
            "_view_module": "@jupyter-widgets/controls",
            "_view_module_version": "1.5.0",
            "_view_name": "ProgressView",
            "bar_style": "success",
            "description": "",
            "description_tooltip": null,
            "layout": "IPY_MODEL_43311b679c734c73ad6a28e3aa2f4109",
            "max": 160,
            "min": 0,
            "orientation": "horizontal",
            "style": "IPY_MODEL_b9efd79d4d1a40d5aec37122b8f3ffe0",
            "value": 160
          }
        },
        "c078627492c6454ab1245f03a2d257ef": {
          "model_module": "@jupyter-widgets/controls",
          "model_name": "HTMLModel",
          "model_module_version": "1.5.0",
          "state": {
            "_dom_classes": [],
            "_model_module": "@jupyter-widgets/controls",
            "_model_module_version": "1.5.0",
            "_model_name": "HTMLModel",
            "_view_count": null,
            "_view_module": "@jupyter-widgets/controls",
            "_view_module_version": "1.5.0",
            "_view_name": "HTMLView",
            "description": "",
            "description_tooltip": null,
            "layout": "IPY_MODEL_2ec03bd822fe4d8e806b2ac2f2f44543",
            "placeholder": "​",
            "style": "IPY_MODEL_218bcb394c3944a4bd26d294ee402d52",
            "value": " 160/160 [00:00&lt;00:00, 17.4kB/s]"
          }
        },
        "6525a6027ed54c51a6cfd08cba461d6f": {
          "model_module": "@jupyter-widgets/base",
          "model_name": "LayoutModel",
          "model_module_version": "1.2.0",
          "state": {
            "_model_module": "@jupyter-widgets/base",
            "_model_module_version": "1.2.0",
            "_model_name": "LayoutModel",
            "_view_count": null,
            "_view_module": "@jupyter-widgets/base",
            "_view_module_version": "1.2.0",
            "_view_name": "LayoutView",
            "align_content": null,
            "align_items": null,
            "align_self": null,
            "border": null,
            "bottom": null,
            "display": null,
            "flex": null,
            "flex_flow": null,
            "grid_area": null,
            "grid_auto_columns": null,
            "grid_auto_flow": null,
            "grid_auto_rows": null,
            "grid_column": null,
            "grid_gap": null,
            "grid_row": null,
            "grid_template_areas": null,
            "grid_template_columns": null,
            "grid_template_rows": null,
            "height": null,
            "justify_content": null,
            "justify_items": null,
            "left": null,
            "margin": null,
            "max_height": null,
            "max_width": null,
            "min_height": null,
            "min_width": null,
            "object_fit": null,
            "object_position": null,
            "order": null,
            "overflow": null,
            "overflow_x": null,
            "overflow_y": null,
            "padding": null,
            "right": null,
            "top": null,
            "visibility": null,
            "width": null
          }
        },
        "09bcad7a89e04ad9bc985dd6b252fafd": {
          "model_module": "@jupyter-widgets/base",
          "model_name": "LayoutModel",
          "model_module_version": "1.2.0",
          "state": {
            "_model_module": "@jupyter-widgets/base",
            "_model_module_version": "1.2.0",
            "_model_name": "LayoutModel",
            "_view_count": null,
            "_view_module": "@jupyter-widgets/base",
            "_view_module_version": "1.2.0",
            "_view_name": "LayoutView",
            "align_content": null,
            "align_items": null,
            "align_self": null,
            "border": null,
            "bottom": null,
            "display": null,
            "flex": null,
            "flex_flow": null,
            "grid_area": null,
            "grid_auto_columns": null,
            "grid_auto_flow": null,
            "grid_auto_rows": null,
            "grid_column": null,
            "grid_gap": null,
            "grid_row": null,
            "grid_template_areas": null,
            "grid_template_columns": null,
            "grid_template_rows": null,
            "height": null,
            "justify_content": null,
            "justify_items": null,
            "left": null,
            "margin": null,
            "max_height": null,
            "max_width": null,
            "min_height": null,
            "min_width": null,
            "object_fit": null,
            "object_position": null,
            "order": null,
            "overflow": null,
            "overflow_x": null,
            "overflow_y": null,
            "padding": null,
            "right": null,
            "top": null,
            "visibility": null,
            "width": null
          }
        },
        "2f1a60625def43c79bd24a088359950d": {
          "model_module": "@jupyter-widgets/controls",
          "model_name": "DescriptionStyleModel",
          "model_module_version": "1.5.0",
          "state": {
            "_model_module": "@jupyter-widgets/controls",
            "_model_module_version": "1.5.0",
            "_model_name": "DescriptionStyleModel",
            "_view_count": null,
            "_view_module": "@jupyter-widgets/base",
            "_view_module_version": "1.2.0",
            "_view_name": "StyleView",
            "description_width": ""
          }
        },
        "43311b679c734c73ad6a28e3aa2f4109": {
          "model_module": "@jupyter-widgets/base",
          "model_name": "LayoutModel",
          "model_module_version": "1.2.0",
          "state": {
            "_model_module": "@jupyter-widgets/base",
            "_model_module_version": "1.2.0",
            "_model_name": "LayoutModel",
            "_view_count": null,
            "_view_module": "@jupyter-widgets/base",
            "_view_module_version": "1.2.0",
            "_view_name": "LayoutView",
            "align_content": null,
            "align_items": null,
            "align_self": null,
            "border": null,
            "bottom": null,
            "display": null,
            "flex": null,
            "flex_flow": null,
            "grid_area": null,
            "grid_auto_columns": null,
            "grid_auto_flow": null,
            "grid_auto_rows": null,
            "grid_column": null,
            "grid_gap": null,
            "grid_row": null,
            "grid_template_areas": null,
            "grid_template_columns": null,
            "grid_template_rows": null,
            "height": null,
            "justify_content": null,
            "justify_items": null,
            "left": null,
            "margin": null,
            "max_height": null,
            "max_width": null,
            "min_height": null,
            "min_width": null,
            "object_fit": null,
            "object_position": null,
            "order": null,
            "overflow": null,
            "overflow_x": null,
            "overflow_y": null,
            "padding": null,
            "right": null,
            "top": null,
            "visibility": null,
            "width": null
          }
        },
        "b9efd79d4d1a40d5aec37122b8f3ffe0": {
          "model_module": "@jupyter-widgets/controls",
          "model_name": "ProgressStyleModel",
          "model_module_version": "1.5.0",
          "state": {
            "_model_module": "@jupyter-widgets/controls",
            "_model_module_version": "1.5.0",
            "_model_name": "ProgressStyleModel",
            "_view_count": null,
            "_view_module": "@jupyter-widgets/base",
            "_view_module_version": "1.2.0",
            "_view_name": "StyleView",
            "bar_color": null,
            "description_width": ""
          }
        },
        "2ec03bd822fe4d8e806b2ac2f2f44543": {
          "model_module": "@jupyter-widgets/base",
          "model_name": "LayoutModel",
          "model_module_version": "1.2.0",
          "state": {
            "_model_module": "@jupyter-widgets/base",
            "_model_module_version": "1.2.0",
            "_model_name": "LayoutModel",
            "_view_count": null,
            "_view_module": "@jupyter-widgets/base",
            "_view_module_version": "1.2.0",
            "_view_name": "LayoutView",
            "align_content": null,
            "align_items": null,
            "align_self": null,
            "border": null,
            "bottom": null,
            "display": null,
            "flex": null,
            "flex_flow": null,
            "grid_area": null,
            "grid_auto_columns": null,
            "grid_auto_flow": null,
            "grid_auto_rows": null,
            "grid_column": null,
            "grid_gap": null,
            "grid_row": null,
            "grid_template_areas": null,
            "grid_template_columns": null,
            "grid_template_rows": null,
            "height": null,
            "justify_content": null,
            "justify_items": null,
            "left": null,
            "margin": null,
            "max_height": null,
            "max_width": null,
            "min_height": null,
            "min_width": null,
            "object_fit": null,
            "object_position": null,
            "order": null,
            "overflow": null,
            "overflow_x": null,
            "overflow_y": null,
            "padding": null,
            "right": null,
            "top": null,
            "visibility": null,
            "width": null
          }
        },
        "218bcb394c3944a4bd26d294ee402d52": {
          "model_module": "@jupyter-widgets/controls",
          "model_name": "DescriptionStyleModel",
          "model_module_version": "1.5.0",
          "state": {
            "_model_module": "@jupyter-widgets/controls",
            "_model_module_version": "1.5.0",
            "_model_name": "DescriptionStyleModel",
            "_view_count": null,
            "_view_module": "@jupyter-widgets/base",
            "_view_module_version": "1.2.0",
            "_view_name": "StyleView",
            "description_width": ""
          }
        },
        "288398bfff5e4d498e32ce450ca5155d": {
          "model_module": "@jupyter-widgets/controls",
          "model_name": "HBoxModel",
          "model_module_version": "1.5.0",
          "state": {
            "_dom_classes": [],
            "_model_module": "@jupyter-widgets/controls",
            "_model_module_version": "1.5.0",
            "_model_name": "HBoxModel",
            "_view_count": null,
            "_view_module": "@jupyter-widgets/controls",
            "_view_module_version": "1.5.0",
            "_view_name": "HBoxView",
            "box_style": "",
            "children": [
              "IPY_MODEL_a9d56bb196f54dafbc5938c1b0696c50",
              "IPY_MODEL_4cde8577b62f4602ae29601466a60280",
              "IPY_MODEL_ab6489cd4aeb4797a552f20b419aea30"
            ],
            "layout": "IPY_MODEL_c16e0cc4ff5b4332a87f390454119c76"
          }
        },
        "a9d56bb196f54dafbc5938c1b0696c50": {
          "model_module": "@jupyter-widgets/controls",
          "model_name": "HTMLModel",
          "model_module_version": "1.5.0",
          "state": {
            "_dom_classes": [],
            "_model_module": "@jupyter-widgets/controls",
            "_model_module_version": "1.5.0",
            "_model_name": "HTMLModel",
            "_view_count": null,
            "_view_module": "@jupyter-widgets/controls",
            "_view_module_version": "1.5.0",
            "_view_name": "HTMLView",
            "description": "",
            "description_tooltip": null,
            "layout": "IPY_MODEL_afb7322c8b35448481988396deac6a59",
            "placeholder": "​",
            "style": "IPY_MODEL_343e802ea84442f8949849b6e7e0528a",
            "value": "config.json: "
          }
        },
        "4cde8577b62f4602ae29601466a60280": {
          "model_module": "@jupyter-widgets/controls",
          "model_name": "FloatProgressModel",
          "model_module_version": "1.5.0",
          "state": {
            "_dom_classes": [],
            "_model_module": "@jupyter-widgets/controls",
            "_model_module_version": "1.5.0",
            "_model_name": "FloatProgressModel",
            "_view_count": null,
            "_view_module": "@jupyter-widgets/controls",
            "_view_module_version": "1.5.0",
            "_view_name": "ProgressView",
            "bar_style": "success",
            "description": "",
            "description_tooltip": null,
            "layout": "IPY_MODEL_b6204821b6974b1db501cadec7cf7d0f",
            "max": 1,
            "min": 0,
            "orientation": "horizontal",
            "style": "IPY_MODEL_6d98fe1dfd1d4b178eac038a1abd5298",
            "value": 1
          }
        },
        "ab6489cd4aeb4797a552f20b419aea30": {
          "model_module": "@jupyter-widgets/controls",
          "model_name": "HTMLModel",
          "model_module_version": "1.5.0",
          "state": {
            "_dom_classes": [],
            "_model_module": "@jupyter-widgets/controls",
            "_model_module_version": "1.5.0",
            "_model_name": "HTMLModel",
            "_view_count": null,
            "_view_module": "@jupyter-widgets/controls",
            "_view_module_version": "1.5.0",
            "_view_name": "HTMLView",
            "description": "",
            "description_tooltip": null,
            "layout": "IPY_MODEL_c6b43fc6b6dd49f89d3a4b7416084cb6",
            "placeholder": "​",
            "style": "IPY_MODEL_808f8be4202e4cd9be48eec34dd1121b",
            "value": " 69.7k/? [00:00&lt;00:00, 6.01MB/s]"
          }
        },
        "c16e0cc4ff5b4332a87f390454119c76": {
          "model_module": "@jupyter-widgets/base",
          "model_name": "LayoutModel",
          "model_module_version": "1.2.0",
          "state": {
            "_model_module": "@jupyter-widgets/base",
            "_model_module_version": "1.2.0",
            "_model_name": "LayoutModel",
            "_view_count": null,
            "_view_module": "@jupyter-widgets/base",
            "_view_module_version": "1.2.0",
            "_view_name": "LayoutView",
            "align_content": null,
            "align_items": null,
            "align_self": null,
            "border": null,
            "bottom": null,
            "display": null,
            "flex": null,
            "flex_flow": null,
            "grid_area": null,
            "grid_auto_columns": null,
            "grid_auto_flow": null,
            "grid_auto_rows": null,
            "grid_column": null,
            "grid_gap": null,
            "grid_row": null,
            "grid_template_areas": null,
            "grid_template_columns": null,
            "grid_template_rows": null,
            "height": null,
            "justify_content": null,
            "justify_items": null,
            "left": null,
            "margin": null,
            "max_height": null,
            "max_width": null,
            "min_height": null,
            "min_width": null,
            "object_fit": null,
            "object_position": null,
            "order": null,
            "overflow": null,
            "overflow_x": null,
            "overflow_y": null,
            "padding": null,
            "right": null,
            "top": null,
            "visibility": null,
            "width": null
          }
        },
        "afb7322c8b35448481988396deac6a59": {
          "model_module": "@jupyter-widgets/base",
          "model_name": "LayoutModel",
          "model_module_version": "1.2.0",
          "state": {
            "_model_module": "@jupyter-widgets/base",
            "_model_module_version": "1.2.0",
            "_model_name": "LayoutModel",
            "_view_count": null,
            "_view_module": "@jupyter-widgets/base",
            "_view_module_version": "1.2.0",
            "_view_name": "LayoutView",
            "align_content": null,
            "align_items": null,
            "align_self": null,
            "border": null,
            "bottom": null,
            "display": null,
            "flex": null,
            "flex_flow": null,
            "grid_area": null,
            "grid_auto_columns": null,
            "grid_auto_flow": null,
            "grid_auto_rows": null,
            "grid_column": null,
            "grid_gap": null,
            "grid_row": null,
            "grid_template_areas": null,
            "grid_template_columns": null,
            "grid_template_rows": null,
            "height": null,
            "justify_content": null,
            "justify_items": null,
            "left": null,
            "margin": null,
            "max_height": null,
            "max_width": null,
            "min_height": null,
            "min_width": null,
            "object_fit": null,
            "object_position": null,
            "order": null,
            "overflow": null,
            "overflow_x": null,
            "overflow_y": null,
            "padding": null,
            "right": null,
            "top": null,
            "visibility": null,
            "width": null
          }
        },
        "343e802ea84442f8949849b6e7e0528a": {
          "model_module": "@jupyter-widgets/controls",
          "model_name": "DescriptionStyleModel",
          "model_module_version": "1.5.0",
          "state": {
            "_model_module": "@jupyter-widgets/controls",
            "_model_module_version": "1.5.0",
            "_model_name": "DescriptionStyleModel",
            "_view_count": null,
            "_view_module": "@jupyter-widgets/base",
            "_view_module_version": "1.2.0",
            "_view_name": "StyleView",
            "description_width": ""
          }
        },
        "b6204821b6974b1db501cadec7cf7d0f": {
          "model_module": "@jupyter-widgets/base",
          "model_name": "LayoutModel",
          "model_module_version": "1.2.0",
          "state": {
            "_model_module": "@jupyter-widgets/base",
            "_model_module_version": "1.2.0",
            "_model_name": "LayoutModel",
            "_view_count": null,
            "_view_module": "@jupyter-widgets/base",
            "_view_module_version": "1.2.0",
            "_view_name": "LayoutView",
            "align_content": null,
            "align_items": null,
            "align_self": null,
            "border": null,
            "bottom": null,
            "display": null,
            "flex": null,
            "flex_flow": null,
            "grid_area": null,
            "grid_auto_columns": null,
            "grid_auto_flow": null,
            "grid_auto_rows": null,
            "grid_column": null,
            "grid_gap": null,
            "grid_row": null,
            "grid_template_areas": null,
            "grid_template_columns": null,
            "grid_template_rows": null,
            "height": null,
            "justify_content": null,
            "justify_items": null,
            "left": null,
            "margin": null,
            "max_height": null,
            "max_width": null,
            "min_height": null,
            "min_width": null,
            "object_fit": null,
            "object_position": null,
            "order": null,
            "overflow": null,
            "overflow_x": null,
            "overflow_y": null,
            "padding": null,
            "right": null,
            "top": null,
            "visibility": null,
            "width": "20px"
          }
        },
        "6d98fe1dfd1d4b178eac038a1abd5298": {
          "model_module": "@jupyter-widgets/controls",
          "model_name": "ProgressStyleModel",
          "model_module_version": "1.5.0",
          "state": {
            "_model_module": "@jupyter-widgets/controls",
            "_model_module_version": "1.5.0",
            "_model_name": "ProgressStyleModel",
            "_view_count": null,
            "_view_module": "@jupyter-widgets/base",
            "_view_module_version": "1.2.0",
            "_view_name": "StyleView",
            "bar_color": null,
            "description_width": ""
          }
        },
        "c6b43fc6b6dd49f89d3a4b7416084cb6": {
          "model_module": "@jupyter-widgets/base",
          "model_name": "LayoutModel",
          "model_module_version": "1.2.0",
          "state": {
            "_model_module": "@jupyter-widgets/base",
            "_model_module_version": "1.2.0",
            "_model_name": "LayoutModel",
            "_view_count": null,
            "_view_module": "@jupyter-widgets/base",
            "_view_module_version": "1.2.0",
            "_view_name": "LayoutView",
            "align_content": null,
            "align_items": null,
            "align_self": null,
            "border": null,
            "bottom": null,
            "display": null,
            "flex": null,
            "flex_flow": null,
            "grid_area": null,
            "grid_auto_columns": null,
            "grid_auto_flow": null,
            "grid_auto_rows": null,
            "grid_column": null,
            "grid_gap": null,
            "grid_row": null,
            "grid_template_areas": null,
            "grid_template_columns": null,
            "grid_template_rows": null,
            "height": null,
            "justify_content": null,
            "justify_items": null,
            "left": null,
            "margin": null,
            "max_height": null,
            "max_width": null,
            "min_height": null,
            "min_width": null,
            "object_fit": null,
            "object_position": null,
            "order": null,
            "overflow": null,
            "overflow_x": null,
            "overflow_y": null,
            "padding": null,
            "right": null,
            "top": null,
            "visibility": null,
            "width": null
          }
        },
        "808f8be4202e4cd9be48eec34dd1121b": {
          "model_module": "@jupyter-widgets/controls",
          "model_name": "DescriptionStyleModel",
          "model_module_version": "1.5.0",
          "state": {
            "_model_module": "@jupyter-widgets/controls",
            "_model_module_version": "1.5.0",
            "_model_name": "DescriptionStyleModel",
            "_view_count": null,
            "_view_module": "@jupyter-widgets/base",
            "_view_module_version": "1.2.0",
            "_view_name": "StyleView",
            "description_width": ""
          }
        },
        "b41c29a4b91f448f86be204cdd3d6cb7": {
          "model_module": "@jupyter-widgets/controls",
          "model_name": "HBoxModel",
          "model_module_version": "1.5.0",
          "state": {
            "_dom_classes": [],
            "_model_module": "@jupyter-widgets/controls",
            "_model_module_version": "1.5.0",
            "_model_name": "HBoxModel",
            "_view_count": null,
            "_view_module": "@jupyter-widgets/controls",
            "_view_module_version": "1.5.0",
            "_view_name": "HBoxView",
            "box_style": "",
            "children": [
              "IPY_MODEL_ed61c9612cba4a04acd1eb631781b6cd",
              "IPY_MODEL_1002897a5b444da1a47088dc91cde77e",
              "IPY_MODEL_7022e66817324284b7b5b1667c325bbf"
            ],
            "layout": "IPY_MODEL_0fe027618fce4e648ed20ce8ec6cd467"
          }
        },
        "ed61c9612cba4a04acd1eb631781b6cd": {
          "model_module": "@jupyter-widgets/controls",
          "model_name": "HTMLModel",
          "model_module_version": "1.5.0",
          "state": {
            "_dom_classes": [],
            "_model_module": "@jupyter-widgets/controls",
            "_model_module_version": "1.5.0",
            "_model_name": "HTMLModel",
            "_view_count": null,
            "_view_module": "@jupyter-widgets/controls",
            "_view_module_version": "1.5.0",
            "_view_name": "HTMLView",
            "description": "",
            "description_tooltip": null,
            "layout": "IPY_MODEL_bed3f5348f904656a9353313719f6736",
            "placeholder": "​",
            "style": "IPY_MODEL_c9f3e637a51344a6bd55764511ec512b",
            "value": "model.safetensors: 100%"
          }
        },
        "1002897a5b444da1a47088dc91cde77e": {
          "model_module": "@jupyter-widgets/controls",
          "model_name": "FloatProgressModel",
          "model_module_version": "1.5.0",
          "state": {
            "_dom_classes": [],
            "_model_module": "@jupyter-widgets/controls",
            "_model_module_version": "1.5.0",
            "_model_name": "FloatProgressModel",
            "_view_count": null,
            "_view_module": "@jupyter-widgets/controls",
            "_view_module_version": "1.5.0",
            "_view_name": "ProgressView",
            "bar_style": "success",
            "description": "",
            "description_tooltip": null,
            "layout": "IPY_MODEL_9f03aa42f281480eafa1044f47d7800d",
            "max": 346293852,
            "min": 0,
            "orientation": "horizontal",
            "style": "IPY_MODEL_6cedf5d230a5483ca8da58d7b5f4f2df",
            "value": 346293852
          }
        },
        "7022e66817324284b7b5b1667c325bbf": {
          "model_module": "@jupyter-widgets/controls",
          "model_name": "HTMLModel",
          "model_module_version": "1.5.0",
          "state": {
            "_dom_classes": [],
            "_model_module": "@jupyter-widgets/controls",
            "_model_module_version": "1.5.0",
            "_model_name": "HTMLModel",
            "_view_count": null,
            "_view_module": "@jupyter-widgets/controls",
            "_view_module_version": "1.5.0",
            "_view_name": "HTMLView",
            "description": "",
            "description_tooltip": null,
            "layout": "IPY_MODEL_fc99451014af4d77be4f1c68fc6e2f83",
            "placeholder": "​",
            "style": "IPY_MODEL_ec685ecee76443d889c706a760b0231c",
            "value": " 346M/346M [00:01&lt;00:00, 288MB/s]"
          }
        },
        "0fe027618fce4e648ed20ce8ec6cd467": {
          "model_module": "@jupyter-widgets/base",
          "model_name": "LayoutModel",
          "model_module_version": "1.2.0",
          "state": {
            "_model_module": "@jupyter-widgets/base",
            "_model_module_version": "1.2.0",
            "_model_name": "LayoutModel",
            "_view_count": null,
            "_view_module": "@jupyter-widgets/base",
            "_view_module_version": "1.2.0",
            "_view_name": "LayoutView",
            "align_content": null,
            "align_items": null,
            "align_self": null,
            "border": null,
            "bottom": null,
            "display": null,
            "flex": null,
            "flex_flow": null,
            "grid_area": null,
            "grid_auto_columns": null,
            "grid_auto_flow": null,
            "grid_auto_rows": null,
            "grid_column": null,
            "grid_gap": null,
            "grid_row": null,
            "grid_template_areas": null,
            "grid_template_columns": null,
            "grid_template_rows": null,
            "height": null,
            "justify_content": null,
            "justify_items": null,
            "left": null,
            "margin": null,
            "max_height": null,
            "max_width": null,
            "min_height": null,
            "min_width": null,
            "object_fit": null,
            "object_position": null,
            "order": null,
            "overflow": null,
            "overflow_x": null,
            "overflow_y": null,
            "padding": null,
            "right": null,
            "top": null,
            "visibility": null,
            "width": null
          }
        },
        "bed3f5348f904656a9353313719f6736": {
          "model_module": "@jupyter-widgets/base",
          "model_name": "LayoutModel",
          "model_module_version": "1.2.0",
          "state": {
            "_model_module": "@jupyter-widgets/base",
            "_model_module_version": "1.2.0",
            "_model_name": "LayoutModel",
            "_view_count": null,
            "_view_module": "@jupyter-widgets/base",
            "_view_module_version": "1.2.0",
            "_view_name": "LayoutView",
            "align_content": null,
            "align_items": null,
            "align_self": null,
            "border": null,
            "bottom": null,
            "display": null,
            "flex": null,
            "flex_flow": null,
            "grid_area": null,
            "grid_auto_columns": null,
            "grid_auto_flow": null,
            "grid_auto_rows": null,
            "grid_column": null,
            "grid_gap": null,
            "grid_row": null,
            "grid_template_areas": null,
            "grid_template_columns": null,
            "grid_template_rows": null,
            "height": null,
            "justify_content": null,
            "justify_items": null,
            "left": null,
            "margin": null,
            "max_height": null,
            "max_width": null,
            "min_height": null,
            "min_width": null,
            "object_fit": null,
            "object_position": null,
            "order": null,
            "overflow": null,
            "overflow_x": null,
            "overflow_y": null,
            "padding": null,
            "right": null,
            "top": null,
            "visibility": null,
            "width": null
          }
        },
        "c9f3e637a51344a6bd55764511ec512b": {
          "model_module": "@jupyter-widgets/controls",
          "model_name": "DescriptionStyleModel",
          "model_module_version": "1.5.0",
          "state": {
            "_model_module": "@jupyter-widgets/controls",
            "_model_module_version": "1.5.0",
            "_model_name": "DescriptionStyleModel",
            "_view_count": null,
            "_view_module": "@jupyter-widgets/base",
            "_view_module_version": "1.2.0",
            "_view_name": "StyleView",
            "description_width": ""
          }
        },
        "9f03aa42f281480eafa1044f47d7800d": {
          "model_module": "@jupyter-widgets/base",
          "model_name": "LayoutModel",
          "model_module_version": "1.2.0",
          "state": {
            "_model_module": "@jupyter-widgets/base",
            "_model_module_version": "1.2.0",
            "_model_name": "LayoutModel",
            "_view_count": null,
            "_view_module": "@jupyter-widgets/base",
            "_view_module_version": "1.2.0",
            "_view_name": "LayoutView",
            "align_content": null,
            "align_items": null,
            "align_self": null,
            "border": null,
            "bottom": null,
            "display": null,
            "flex": null,
            "flex_flow": null,
            "grid_area": null,
            "grid_auto_columns": null,
            "grid_auto_flow": null,
            "grid_auto_rows": null,
            "grid_column": null,
            "grid_gap": null,
            "grid_row": null,
            "grid_template_areas": null,
            "grid_template_columns": null,
            "grid_template_rows": null,
            "height": null,
            "justify_content": null,
            "justify_items": null,
            "left": null,
            "margin": null,
            "max_height": null,
            "max_width": null,
            "min_height": null,
            "min_width": null,
            "object_fit": null,
            "object_position": null,
            "order": null,
            "overflow": null,
            "overflow_x": null,
            "overflow_y": null,
            "padding": null,
            "right": null,
            "top": null,
            "visibility": null,
            "width": null
          }
        },
        "6cedf5d230a5483ca8da58d7b5f4f2df": {
          "model_module": "@jupyter-widgets/controls",
          "model_name": "ProgressStyleModel",
          "model_module_version": "1.5.0",
          "state": {
            "_model_module": "@jupyter-widgets/controls",
            "_model_module_version": "1.5.0",
            "_model_name": "ProgressStyleModel",
            "_view_count": null,
            "_view_module": "@jupyter-widgets/base",
            "_view_module_version": "1.2.0",
            "_view_name": "StyleView",
            "bar_color": null,
            "description_width": ""
          }
        },
        "fc99451014af4d77be4f1c68fc6e2f83": {
          "model_module": "@jupyter-widgets/base",
          "model_name": "LayoutModel",
          "model_module_version": "1.2.0",
          "state": {
            "_model_module": "@jupyter-widgets/base",
            "_model_module_version": "1.2.0",
            "_model_name": "LayoutModel",
            "_view_count": null,
            "_view_module": "@jupyter-widgets/base",
            "_view_module_version": "1.2.0",
            "_view_name": "LayoutView",
            "align_content": null,
            "align_items": null,
            "align_self": null,
            "border": null,
            "bottom": null,
            "display": null,
            "flex": null,
            "flex_flow": null,
            "grid_area": null,
            "grid_auto_columns": null,
            "grid_auto_flow": null,
            "grid_auto_rows": null,
            "grid_column": null,
            "grid_gap": null,
            "grid_row": null,
            "grid_template_areas": null,
            "grid_template_columns": null,
            "grid_template_rows": null,
            "height": null,
            "justify_content": null,
            "justify_items": null,
            "left": null,
            "margin": null,
            "max_height": null,
            "max_width": null,
            "min_height": null,
            "min_width": null,
            "object_fit": null,
            "object_position": null,
            "order": null,
            "overflow": null,
            "overflow_x": null,
            "overflow_y": null,
            "padding": null,
            "right": null,
            "top": null,
            "visibility": null,
            "width": null
          }
        },
        "ec685ecee76443d889c706a760b0231c": {
          "model_module": "@jupyter-widgets/controls",
          "model_name": "DescriptionStyleModel",
          "model_module_version": "1.5.0",
          "state": {
            "_model_module": "@jupyter-widgets/controls",
            "_model_module_version": "1.5.0",
            "_model_name": "DescriptionStyleModel",
            "_view_count": null,
            "_view_module": "@jupyter-widgets/base",
            "_view_module_version": "1.2.0",
            "_view_name": "StyleView",
            "description_width": ""
          }
        }
      }
    }
  },
  "nbformat": 4,
  "nbformat_minor": 0
}